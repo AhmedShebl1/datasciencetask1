{
 "cells": [
  {
   "cell_type": "code",
   "execution_count": 1,
   "id": "84345706-f07d-4761-b3b0-be614ab0c681",
   "metadata": {},
   "outputs": [
    {
     "name": "stdin",
     "output_type": "stream",
     "text": [
      "Please enter the name of student number 1\n",
      " Ramy\n",
      "Please enter their ID\n",
      " 21-01382\n",
      "Enter 1 to continue\n",
      " 1\n",
      "Please enter the name of student number 2\n",
      " Tamer\n",
      "Please enter their ID\n",
      " 93021\n",
      "Enter 1 to continue\n",
      " 2\n"
     ]
    },
    {
     "name": "stdout",
     "output_type": "stream",
     "text": [
      "student 1 name :Ramy\n",
      "student 1 ID :21-01382\n",
      "student 2 name :Tamer\n",
      "student 2 ID :93021\n"
     ]
    }
   ],
   "source": [
    "stop = \"1\"\n",
    "names = []\n",
    "IDs = []\n",
    "counter = 0\n",
    "while stop == \"1\":\n",
    "    names.append(input(\"Please enter the name of student number \"+str(counter + 1)+\"\\n\"))\n",
    "    IDs.append(input(\"Please enter their ID\\n\"))\n",
    "    stop = input(\"Enter 1 to continue\\n\")\n",
    "    counter += 1\n",
    "for i in range(counter):\n",
    "    print(\"student \" + str(i+1) + \" name :\" + names[i])\n",
    "    print(\"student \" + str(i+1) + \" ID :\" + IDs[i])"
   ]
  },
  {
   "cell_type": "code",
   "execution_count": null,
   "id": "ce34e6dc-1321-4b08-8cfc-063daa6b3f13",
   "metadata": {},
   "outputs": [],
   "source": []
  }
 ],
 "metadata": {
  "kernelspec": {
   "display_name": "Python 3 (ipykernel)",
   "language": "python",
   "name": "python3"
  },
  "language_info": {
   "codemirror_mode": {
    "name": "ipython",
    "version": 3
   },
   "file_extension": ".py",
   "mimetype": "text/x-python",
   "name": "python",
   "nbconvert_exporter": "python",
   "pygments_lexer": "ipython3",
   "version": "3.11.4"
  }
 },
 "nbformat": 4,
 "nbformat_minor": 5
}
