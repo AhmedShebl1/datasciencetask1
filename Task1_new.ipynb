{
 "cells": [
  {
   "cell_type": "code",
   "execution_count": 7,
   "id": "84345706-f07d-4761-b3b0-be614ab0c681",
   "metadata": {},
   "outputs": [
    {
     "name": "stdin",
     "output_type": "stream",
     "text": [
      "Please enter the name of student number 1\n",
      " c\n",
      "Please enter their ID\n",
      " c\n",
      "please enter their grade\n",
      " c\n",
      "Enter 1 to stop inputing info\n",
      " c\n",
      "Please enter the name of student number 2\n",
      " c\n",
      "Please enter their ID\n",
      " c\n",
      "please enter their grade\n",
      " c\n",
      "Enter 1 to stop inputing info\n",
      " 1\n"
     ]
    },
    {
     "name": "stdout",
     "output_type": "stream",
     "text": [
      "student 1 name :c\n",
      "student 1 ID :c\n",
      "student 1 grade :c\n",
      "student 2 name :c\n",
      "student 2 ID :c\n",
      "student 2 grade :c\n"
     ]
    }
   ],
   "source": [
    "stop = \"0\"\n",
    "names = []\n",
    "IDs = []\n",
    "grade = []\n",
    "counter = 0\n",
    "while stop != \"1\":\n",
    "    names.append(input(\"Please enter the name of student number \"+str(counter + 1)+\"\\n\"))\n",
    "    IDs.append(input(\"Please enter their ID\\n\"))\n",
    "    grade.append(input(\"please enter their grade\\n\"))\n",
    "    stop = input(\"Enter 1 to stop inputing info\\n\")\n",
    "    counter += 1\n",
    "for i in range(counter):\n",
    "    print(\"student \" + str(i+1) + \" name :\" + names[i])\n",
    "    print(\"student \" + str(i+1) + \" ID :\" + IDs[i])\n",
    "    print(\"student \" + str(i+1) + \" grade :\" + grade[i])\n",
    "    "
   ]
  },
  {
   "cell_type": "code",
   "execution_count": null,
   "id": "ce34e6dc-1321-4b08-8cfc-063daa6b3f13",
   "metadata": {},
   "outputs": [],
   "source": []
  }
 ],
 "metadata": {
  "kernelspec": {
   "display_name": "Python 3 (ipykernel)",
   "language": "python",
   "name": "python3"
  },
  "language_info": {
   "codemirror_mode": {
    "name": "ipython",
    "version": 3
   },
   "file_extension": ".py",
   "mimetype": "text/x-python",
   "name": "python",
   "nbconvert_exporter": "python",
   "pygments_lexer": "ipython3",
   "version": "3.12.2"
  }
 },
 "nbformat": 4,
 "nbformat_minor": 5
}
